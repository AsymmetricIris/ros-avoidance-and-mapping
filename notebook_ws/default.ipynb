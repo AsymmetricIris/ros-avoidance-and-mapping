{
 "cells": [
  {
   "cell_type": "markdown",
   "metadata": {},
   "source": [
    "## README\n",
    "\n",
    "# Task 2: How to run Occupancy Grid mapping\n",
    "\n",
    "Terminal 1:\n",
    "\n",
    "roslaunch rosbot_bringup rosbot_rviz.launch\n",
    "\n",
    "Terminal 2:\n",
    "\n",
    "rosrun cw1 mapping.py\n",
    "\n",
    "\n",
    "# Task 3: How to run Obstacle Avoidance\n",
    "\n",
    "Terminal 1:\n",
    "\n",
    "roslaunch cw1 avoid.launch\n",
    "\n",
    "Terminal 2:\n",
    "\n",
    "rosservice call cw1/Avoid \"approach_distance: 0.7\n",
    "approach_velocity: 0.3\"\n",
    "\n",
    "Known bug:\n",
    "If a lower approach velocity is used, the rosbot will start teleporting forwards and falling over when it tries to turn around corners\n",
    "\n",
    "I don't have a lot of guesses why.\n",
    "But, it could be the result of errors in speed adjustment or communicating on the ros ignite end. I have not had the chance to test the code on my local ros install, yet\n",
    "\n",
    "Tuning issue:\n",
    "Also, behaviour is tuned for this velocity or greater. If lower velocities are used, corner behaviour becomes less reliable even if known bug (not the algorithm) doesn't occur"
   ]
  }
 ],
 "metadata": {
  "kernelspec": {
   "display_name": "Python 2",
   "language": "python",
   "name": "python2"
  },
  "language_info": {
   "codemirror_mode": {
    "name": "ipython",
    "version": 2
   },
   "file_extension": ".py",
   "mimetype": "text/x-python",
   "name": "python",
   "nbconvert_exporter": "python",
   "pygments_lexer": "ipython2",
   "version": "2.7.16"
  }
 },
 "nbformat": 4,
 "nbformat_minor": 1
}
